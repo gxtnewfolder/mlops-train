{
  "cells": [
    {
      "cell_type": "code",
      "execution_count": 1,
      "metadata": {},
      "outputs": [],
      "source": [
        "import argparse\n",
        "\n",
        "from pathlib import Path\n",
        "\n",
        "import numpy as np\n",
        "import pandas as pd\n",
        "from matplotlib import pyplot as plt\n",
        "\n",
        "from sklearn.ensemble import RandomForestRegressor\n",
        "from sklearn.metrics import r2_score, mean_absolute_error, mean_squared_error\n",
        "\n",
        "import mlflow\n",
        "import mlflow.sklearn\n",
        "import os"
      ]
    },
    {
      "cell_type": "code",
      "execution_count": 2,
      "metadata": {
        "jupyter": {
          "outputs_hidden": false,
          "source_hidden": false
        },
        "nteract": {
          "transient": {
            "deleting": false
          }
        }
      },
      "outputs": [],
      "source": [
        "TARGET_COL = \"I_f\"\n",
        "\n",
        "NUMERIC_COLS = [\n",
        "    \"I_y\",\n",
        "    \"PF\",\n",
        "    \"e_PF\",\n",
        "    \"d_if\",\n",
        "]\n",
        "\n",
        "CAT_NOM_COLS = [\n",
        "]\n",
        "\n",
        "CAT_ORD_COLS = [\n",
        "]"
      ]
    },
    {
      "cell_type": "code",
      "execution_count": 3,
      "metadata": {
        "jupyter": {
          "outputs_hidden": false,
          "source_hidden": false
        },
        "nteract": {
          "transient": {
            "deleting": false
          }
        }
      },
      "outputs": [],
      "source": [
        "# Define Arguments for this step\n",
        "\n",
        "class MyArgs:\n",
        "    def __init__(self, /, **kwargs):\n",
        "        self.__dict__.update(kwargs)\n",
        "\n",
        "args = MyArgs(\n",
        "                train_data = \"/tmp/prep/train\",\n",
        "                model_output = \"/tmp/train\",\n",
        "                regressor__n_estimators = 500,\n",
        "                regressor__max_depth = 10,\n",
        "                regressor__max_features = 10, \n",
        "                regressor__min_samples_leaf = 4,\n",
        "                regressor__min_samples_split = 5\n",
        "                )\n",
        "\n",
        "os.makedirs(args.model_output, exist_ok = True)"
      ]
    },
    {
      "cell_type": "code",
      "execution_count": 4,
      "metadata": {
        "jupyter": {
          "outputs_hidden": false,
          "source_hidden": false
        },
        "nteract": {
          "transient": {
            "deleting": false
          }
        }
      },
      "outputs": [],
      "source": [
        "\n",
        "def main(args):\n",
        "    '''Read train dataset, train model, save trained model'''\n",
        "\n",
        "    # Read train data\n",
        "    train_data = pd.read_parquet(Path(args.train_data))\n",
        "\n",
        "    # Split the data into input(X) and output(y)\n",
        "    y_train = train_data[TARGET_COL]\n",
        "    X_train = train_data[NUMERIC_COLS + CAT_NOM_COLS + CAT_ORD_COLS]\n",
        "\n",
        "    # Train a Random Forest Regression Model with the training set\n",
        "    model = RandomForestRegressor(n_estimators = args.regressor__n_estimators,\n",
        "                                  max_depth = args.regressor__max_depth,\n",
        "                                  max_features = args.regressor__max_features,\n",
        "                                  min_samples_leaf = args.regressor__min_samples_leaf,\n",
        "                                  min_samples_split = args.regressor__min_samples_split,\n",
        "                                  random_state=0)\n",
        "\n",
        "    # log model hyperparameters\n",
        "    mlflow.log_param(\"model\", \"RandomForestRegressor\")\n",
        "    mlflow.log_param(\"n_estimators\", args.regressor__n_estimators)\n",
        "    mlflow.log_param(\"max_depth\", args.regressor__max_depth)\n",
        "    mlflow.log_param(\"max_features\", args.regressor__max_features)\n",
        "    mlflow.log_param(\"min_samples_leaf\", args.regressor__min_samples_leaf)\n",
        "    mlflow.log_param(\"min_samples_split\", args.regressor__min_samples_split)\n",
        "\n",
        "    # Train model with the train set\n",
        "    model.fit(X_train, y_train)\n",
        "\n",
        "    # Predict using the Regression Model\n",
        "    yhat_train = model.predict(X_train)\n",
        "\n",
        "    # Evaluate Regression performance with the train set\n",
        "    r2 = r2_score(y_train, yhat_train)\n",
        "    mse = mean_squared_error(y_train, yhat_train)\n",
        "    rmse = np.sqrt(mse)\n",
        "    mae = mean_absolute_error(y_train, yhat_train)\n",
        "    \n",
        "    # log model performance metrics\n",
        "    mlflow.log_metric(\"train r2\", r2)\n",
        "    mlflow.log_metric(\"train mse\", mse)\n",
        "    mlflow.log_metric(\"train rmse\", rmse)\n",
        "    mlflow.log_metric(\"train mae\", mae)\n",
        "    print(\"train r2\", r2)\n",
        "    print(\"train mse\", mse)\n",
        "    print(\"train rmse\", rmse)\n",
        "    print(\"train mae\", mae)\n",
        "\n",
        "    # Visualize results\n",
        "    plt.scatter(y_train, yhat_train,  color='black')\n",
        "    plt.plot(y_train, y_train, color='blue', linewidth=3)\n",
        "    plt.xlabel(\"Real value\")\n",
        "    plt.ylabel(\"Predicted value\")\n",
        "    plt.savefig(\"regression_results.png\")\n",
        "    mlflow.log_artifact(\"regression_results.png\")\n",
        "\n",
        "    # Save the model\n",
        "    mlflow.sklearn.save_model(sk_model=model, path=args.model_output)\n"
      ]
    },
    {
      "cell_type": "code",
      "execution_count": 5,
      "metadata": {},
      "outputs": [],
      "source": [
        "mlflow.end_run()"
      ]
    },
    {
      "cell_type": "code",
      "execution_count": 6,
      "metadata": {
        "jupyter": {
          "outputs_hidden": false,
          "source_hidden": false
        },
        "nteract": {
          "transient": {
            "deleting": false
          }
        }
      },
      "outputs": [
        {
          "name": "stdout",
          "output_type": "stream",
          "text": [
            "Train dataset input path: /tmp/prep/train\n",
            "Model output path: /tmp/train\n",
            "n_estimators: 500\n",
            "max_depth: 10\n",
            "max_features: 10\n",
            "min_samples_leaf: 4\n",
            "min_samples_split: 5\n",
            "train r2 0.20332974930616687\n",
            "train mse 0.03625672827773359\n",
            "train rmse 0.1904119961497531\n",
            "train mae 0.16408074612388704\n"
          ]
        },
        {
          "ename": "MlflowException",
          "evalue": "Path '/tmp/train' already exists and is not empty",
          "output_type": "error",
          "traceback": [
            "\u001b[1;31m---------------------------------------------------------------------------\u001b[0m",
            "\u001b[1;31mMlflowException\u001b[0m                           Traceback (most recent call last)",
            "Cell \u001b[1;32mIn[6], line 16\u001b[0m\n\u001b[0;32m     13\u001b[0m \u001b[38;5;28;01mfor\u001b[39;00m line \u001b[38;5;129;01min\u001b[39;00m lines:\n\u001b[0;32m     14\u001b[0m     \u001b[38;5;28mprint\u001b[39m(line)\n\u001b[1;32m---> 16\u001b[0m \u001b[43mmain\u001b[49m\u001b[43m(\u001b[49m\u001b[43margs\u001b[49m\u001b[43m)\u001b[49m\n\u001b[0;32m     18\u001b[0m mlflow\u001b[38;5;241m.\u001b[39mend_run()\n",
            "Cell \u001b[1;32mIn[4], line 58\u001b[0m, in \u001b[0;36mmain\u001b[1;34m(args)\u001b[0m\n\u001b[0;32m     55\u001b[0m mlflow\u001b[38;5;241m.\u001b[39mlog_artifact(\u001b[38;5;124m\"\u001b[39m\u001b[38;5;124mregression_results.png\u001b[39m\u001b[38;5;124m\"\u001b[39m)\n\u001b[0;32m     57\u001b[0m \u001b[38;5;66;03m# Save the model\u001b[39;00m\n\u001b[1;32m---> 58\u001b[0m \u001b[43mmlflow\u001b[49m\u001b[38;5;241;43m.\u001b[39;49m\u001b[43msklearn\u001b[49m\u001b[38;5;241;43m.\u001b[39;49m\u001b[43msave_model\u001b[49m\u001b[43m(\u001b[49m\u001b[43msk_model\u001b[49m\u001b[38;5;241;43m=\u001b[39;49m\u001b[43mmodel\u001b[49m\u001b[43m,\u001b[49m\u001b[43m \u001b[49m\u001b[43mpath\u001b[49m\u001b[38;5;241;43m=\u001b[39;49m\u001b[43margs\u001b[49m\u001b[38;5;241;43m.\u001b[39;49m\u001b[43mmodel_output\u001b[49m\u001b[43m)\u001b[49m\n",
            "File \u001b[1;32mc:\\Users\\Ead\\miniconda3\\envs\\myenv\\lib\\site-packages\\mlflow\\sklearn\\__init__.py:245\u001b[0m, in \u001b[0;36msave_model\u001b[1;34m(sk_model, path, conda_env, code_paths, mlflow_model, serialization_format, signature, input_example, pip_requirements, extra_pip_requirements, pyfunc_predict_fn, metadata)\u001b[0m\n\u001b[0;32m    236\u001b[0m \u001b[38;5;28;01mif\u001b[39;00m serialization_format \u001b[38;5;129;01mnot\u001b[39;00m \u001b[38;5;129;01min\u001b[39;00m SUPPORTED_SERIALIZATION_FORMATS:\n\u001b[0;32m    237\u001b[0m     \u001b[38;5;28;01mraise\u001b[39;00m MlflowException(\n\u001b[0;32m    238\u001b[0m         message\u001b[38;5;241m=\u001b[39m(\n\u001b[0;32m    239\u001b[0m             \u001b[38;5;124mf\u001b[39m\u001b[38;5;124m\"\u001b[39m\u001b[38;5;124mUnrecognized serialization format: \u001b[39m\u001b[38;5;132;01m{\u001b[39;00mserialization_format\u001b[38;5;132;01m}\u001b[39;00m\u001b[38;5;124m. Please specify one\u001b[39m\u001b[38;5;124m\"\u001b[39m\n\u001b[1;32m   (...)\u001b[0m\n\u001b[0;32m    242\u001b[0m         error_code\u001b[38;5;241m=\u001b[39mINVALID_PARAMETER_VALUE,\n\u001b[0;32m    243\u001b[0m     )\n\u001b[1;32m--> 245\u001b[0m \u001b[43m_validate_and_prepare_target_save_path\u001b[49m\u001b[43m(\u001b[49m\u001b[43mpath\u001b[49m\u001b[43m)\u001b[49m\n\u001b[0;32m    246\u001b[0m code_path_subdir \u001b[38;5;241m=\u001b[39m _validate_and_copy_code_paths(code_paths, path)\n\u001b[0;32m    248\u001b[0m \u001b[38;5;28;01mif\u001b[39;00m mlflow_model \u001b[38;5;129;01mis\u001b[39;00m \u001b[38;5;28;01mNone\u001b[39;00m:\n",
            "File \u001b[1;32mc:\\Users\\Ead\\miniconda3\\envs\\myenv\\lib\\site-packages\\mlflow\\utils\\model_utils.py:268\u001b[0m, in \u001b[0;36m_validate_and_prepare_target_save_path\u001b[1;34m(path)\u001b[0m\n\u001b[0;32m    266\u001b[0m \u001b[38;5;28;01mdef\u001b[39;00m \u001b[38;5;21m_validate_and_prepare_target_save_path\u001b[39m(path):\n\u001b[0;32m    267\u001b[0m     \u001b[38;5;28;01mif\u001b[39;00m os\u001b[38;5;241m.\u001b[39mpath\u001b[38;5;241m.\u001b[39mexists(path) \u001b[38;5;129;01mand\u001b[39;00m \u001b[38;5;28many\u001b[39m(os\u001b[38;5;241m.\u001b[39mscandir(path)):\n\u001b[1;32m--> 268\u001b[0m         \u001b[38;5;28;01mraise\u001b[39;00m MlflowException(\n\u001b[0;32m    269\u001b[0m             message\u001b[38;5;241m=\u001b[39m\u001b[38;5;124mf\u001b[39m\u001b[38;5;124m\"\u001b[39m\u001b[38;5;124mPath \u001b[39m\u001b[38;5;124m'\u001b[39m\u001b[38;5;132;01m{\u001b[39;00mpath\u001b[38;5;132;01m}\u001b[39;00m\u001b[38;5;124m'\u001b[39m\u001b[38;5;124m already exists and is not empty\u001b[39m\u001b[38;5;124m\"\u001b[39m,\n\u001b[0;32m    270\u001b[0m             error_code\u001b[38;5;241m=\u001b[39mRESOURCE_ALREADY_EXISTS,\n\u001b[0;32m    271\u001b[0m         )\n\u001b[0;32m    273\u001b[0m     os\u001b[38;5;241m.\u001b[39mmakedirs(path, exist_ok\u001b[38;5;241m=\u001b[39m\u001b[38;5;28;01mTrue\u001b[39;00m)\n",
            "\u001b[1;31mMlflowException\u001b[0m: Path '/tmp/train' already exists and is not empty"
          ]
        },
        {
          "data": {
            "image/png": "[encoded data removed]",
            "text/plain": [
              "<Figure size 640x480 with 1 Axes>"
            ]
          },
          "metadata": {},
          "output_type": "display_data"
        }
      ],
      "source": [
        "mlflow.start_run()\n",
        "\n",
        "lines = [\n",
        "    f\"Train dataset input path: {args.train_data}\",\n",
        "    f\"Model output path: {args.model_output}\",\n",
        "    f\"n_estimators: {args.regressor__n_estimators}\",\n",
        "    f\"max_depth: {args.regressor__max_depth}\",\n",
        "    f\"max_features: {args.regressor__max_features}\",\n",
        "    f\"min_samples_leaf: {args.regressor__min_samples_leaf}\",\n",
        "    f\"min_samples_split: {args.regressor__min_samples_split}\"\n",
        "]\n",
        "\n",
        "for line in lines:\n",
        "    print(line)\n",
        "\n",
        "main(args)\n",
        "\n",
        "mlflow.end_run()"
      ]
    },
    {
      "cell_type": "code",
      "execution_count": 6,
      "metadata": {},
      "outputs": [
        {
          "name": "stdout",
          "output_type": "stream",
          "text": [
            " Volume in drive C is Local Disk\n",
            " Volume Serial Number is 583C-74B4\n",
            "\n",
            " Directory of c:\\tmp\\train\n",
            "\n",
            "10/07/2022  12:16 AM    <DIR>          .\n",
            "10/07/2022  12:16 AM    <DIR>          ..\n",
            "10/07/2022  12:16 AM               160 conda.yaml\n",
            "10/07/2022  12:16 AM               409 MLmodel\n",
            "10/07/2022  12:16 AM        21,449,193 model.pkl\n",
            "10/07/2022  12:16 AM               128 python_env.yaml\n",
            "10/07/2022  12:16 AM                46 requirements.txt\n",
            "               5 File(s)     21,449,936 bytes\n",
            "               2 Dir(s)  788,160,786,432 bytes free\n"
          ]
        }
      ],
      "source": [
        "ls \"/tmp/train\" "
      ]
    }
  ],
  "metadata": {
    "kernel_info": {
      "name": "python38-azureml"
    },
    "kernelspec": {
      "display_name": "myenv",
      "language": "python",
      "name": "python3"
    },
    "language_info": {
      "codemirror_mode": {
        "name": "ipython",
        "version": 3
      },
      "file_extension": ".py",
      "mimetype": "text/x-python",
      "name": "python",
      "nbconvert_exporter": "python",
      "pygments_lexer": "ipython3",
      "version": "3.10.13"
    },
    "nteract": {
      "version": "nteract-front-end@1.0.0"
    }
  },
  "nbformat": 4,
  "nbformat_minor": 0
}

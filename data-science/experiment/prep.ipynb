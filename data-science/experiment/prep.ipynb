{
  "cells": [
    {
      "cell_type": "code",
      "execution_count": 2,
      "metadata": {
        "jupyter": {
          "outputs_hidden": false,
          "source_hidden": false
        },
        "nteract": {
          "transient": {
            "deleting": false
          }
        }
      },
      "outputs": [],
      "source": [
        "import argparse\n",
        "\n",
        "from pathlib import Path\n",
        "import os\n",
        "import numpy as np\n",
        "import pandas as pd\n",
        "\n",
        "import mlflow"
      ]
    },
    {
      "cell_type": "code",
      "execution_count": 20,
      "metadata": {},
      "outputs": [],
      "source": [
        "TARGET_COL = \"I_f\"\n",
        "\n",
        "NUMERIC_COLS = [\n",
        "    \"I_y\",\n",
        "    \"PF\",\n",
        "    \"e_PF\",\n",
        "    \"d_if\",\n",
        "]\n",
        "\n",
        "CAT_NOM_COLS = [\n",
        "]\n",
        "\n",
        "CAT_ORD_COLS = [\n",
        "]"
      ]
    },
    {
      "cell_type": "code",
      "execution_count": 21,
      "metadata": {
        "jupyter": {
          "outputs_hidden": false,
          "source_hidden": false
        },
        "nteract": {
          "transient": {
            "deleting": false
          }
        }
      },
      "outputs": [],
      "source": [
        "# Define Arguments for this step\n",
        "\n",
        "class MyArgs:\n",
        "    def __init__(self, /, **kwargs):\n",
        "        self.__dict__.update(kwargs)\n",
        "\n",
        "args = MyArgs(\n",
        "            raw_data = \"../../data/\", \n",
        "            train_data = \"/tmp/prep/train\",\n",
        "            val_data = \"/tmp/prep/val\",\n",
        "            test_data = \"/tmp/prep/test\",\n",
        "            )\n",
        "\n",
        "os.makedirs(args.train_data, exist_ok = True)\n",
        "os.makedirs(args.val_data, exist_ok = True)\n",
        "os.makedirs(args.test_data, exist_ok = True)\n"
      ]
    },
    {
      "cell_type": "code",
      "execution_count": 28,
      "metadata": {},
      "outputs": [],
      "source": [
        "\n",
        "def main(args):\n",
        "    '''Read, split, and save datasets'''\n",
        "\n",
        "    # ------------ Reading Data ------------ #\n",
        "    # -------------------------------------- #\n",
        "\n",
        "    print(\"mounted_path files: \")\n",
        "    arr = os.listdir(args.raw_data)\n",
        "    print(arr)\n",
        "\n",
        "    data = pd.read_csv((Path(args.raw_data) / 'data.csv'))\n",
        "    data = data[NUMERIC_COLS + CAT_NOM_COLS + CAT_ORD_COLS + [TARGET_COL]]\n",
        "\n",
        "    # ------------- Split Data ------------- #\n",
        "    # -------------------------------------- #\n",
        "\n",
        "    # Split data into train, val and test datasets\n",
        "\n",
        "    random_data = np.random.rand(len(data))\n",
        "\n",
        "    msk_train = random_data < 0.7\n",
        "    msk_val = (random_data >= 0.7) & (random_data < 0.85)\n",
        "    msk_test = random_data >= 0.85\n",
        "\n",
        "    train = data[msk_train]\n",
        "    val = data[msk_val]\n",
        "    test = data[msk_test]\n",
        "\n",
        "    mlflow.log_metric('train size', train.shape[0])\n",
        "    mlflow.log_metric('val size', val.shape[0])\n",
        "    mlflow.log_metric('test size', test.shape[0])\n",
        "\n",
        "    train.to_parquet((Path(args.train_data) / \"train.parquet\"))\n",
        "    val.to_parquet((Path(args.val_data) / \"val.parquet\"))\n",
        "    test.to_parquet((Path(args.test_data) / \"test.parquet\"))\n"
      ]
    },
    {
      "cell_type": "code",
      "execution_count": 29,
      "metadata": {
        "jupyter": {
          "outputs_hidden": false,
          "source_hidden": false
        },
        "nteract": {
          "transient": {
            "deleting": false
          }
        }
      },
      "outputs": [
        {
          "name": "stdout",
          "output_type": "stream",
          "text": [
            "Raw data path: ../../data/\n",
            "Train dataset output path: /tmp/prep/train\n",
            "Val dataset output path: /tmp/prep/val\n",
            "Test dataset path: /tmp/prep/test\n",
            "mounted_path files: \n",
            "['data.csv', 'taxi-batch.csv', 'taxi-data.csv', 'taxi-request.json']\n",
            "       I_y    PF  e_PF  d_if   I_f\n",
            "5     5.51  0.95  0.22  0.42  1.60\n",
            "24    5.53  0.76  0.18  0.46  1.42\n",
            "30    4.54  0.71  0.32  0.15  1.40\n",
            "56    4.84  0.65  0.20  0.50  1.85\n",
            "61    4.02  0.66  0.25  0.48  1.54\n",
            "...    ...   ...   ...   ...   ...\n",
            "7342  5.75  0.66  0.35  0.70  1.36\n",
            "7345  4.66  0.89  0.26  0.71  1.57\n",
            "7346  3.11  0.97  0.30  0.73  1.78\n",
            "7349  4.55  0.66  0.11  0.46  1.24\n",
            "7360  4.66  0.83  0.05  0.42  1.83\n",
            "\n",
            "[1099 rows x 5 columns]\n"
          ]
        }
      ],
      "source": [
        "mlflow.start_run()\n",
        "\n",
        "lines = [\n",
        "    f\"Raw data path: {args.raw_data}\",\n",
        "    f\"Train dataset output path: {args.train_data}\",\n",
        "    f\"Val dataset output path: {args.val_data}\",\n",
        "    f\"Test dataset path: {args.test_data}\",\n",
        "\n",
        "]\n",
        "\n",
        "for line in lines:\n",
        "    print(line)\n",
        "\n",
        "main(args)\n",
        "\n",
        "mlflow.end_run()"
      ]
    },
    {
      "cell_type": "code",
      "execution_count": 10,
      "metadata": {
        "jupyter": {
          "outputs_hidden": false,
          "source_hidden": false
        },
        "nteract": {
          "transient": {
            "deleting": false
          }
        },
        "vscode": {
          "languageId": "shellscript"
        }
      },
      "outputs": [
        {
          "name": "stdout",
          "output_type": "stream",
          "text": [
            " Volume in drive D has no label.\n",
            " Volume Serial Number is 9E07-C812\n",
            "\n",
            " Directory of d:\\tmp\\prep\\train\n",
            "\n",
            "29/12/2024  15:19    <DIR>          .\n",
            "29/12/2024  15:17    <DIR>          ..\n",
            "29/12/2024  15:19            58,345 train.parquet\n",
            "               1 File(s)         58,345 bytes\n",
            "               2 Dir(s)  667,786,452,992 bytes free\n"
          ]
        }
      ],
      "source": [
        "ls \"/tmp/prep/train\" "
      ]
    }
  ],
  "metadata": {
    "kernel_info": {
      "name": "local-env"
    },
    "kernelspec": {
      "display_name": "myenv",
      "language": "python",
      "name": "python3"
    },
    "language_info": {
      "codemirror_mode": {
        "name": "ipython",
        "version": 3
      },
      "file_extension": ".py",
      "mimetype": "text/x-python",
      "name": "python",
      "nbconvert_exporter": "python",
      "pygments_lexer": "ipython3",
      "version": "3.10.13"
    },
    "nteract": {
      "version": "nteract-front-end@1.0.0"
    }
  },
  "nbformat": 4,
  "nbformat_minor": 0
}
